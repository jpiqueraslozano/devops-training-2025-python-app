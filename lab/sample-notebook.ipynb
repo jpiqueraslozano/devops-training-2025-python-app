{
 "cells": [
  {
   "cell_type": "code",
   "execution_count": 9,
   "metadata": {
    "vscode": {
     "languageId": "shellscript"
    }
   },
   "outputs": [
    {
     "name": "stdout",
     "output_type": "stream",
     "text": [
      "Defaulting to user installation because normal site-packages is not writeable\n",
      "Requirement already satisfied: pytest in /home/vscode/.local/lib/python3.11/site-packages (from -r ../requirements.txt (line 1)) (8.0.0)\n",
      "Requirement already satisfied: Flask in /home/vscode/.local/lib/python3.11/site-packages (from -r ../requirements.txt (line 2)) (3.0.2)\n",
      "Requirement already satisfied: psycopg2 in /home/vscode/.local/lib/python3.11/site-packages (from -r ../requirements.txt (line 3)) (2.9.9)\n",
      "Requirement already satisfied: iniconfig in /home/vscode/.local/lib/python3.11/site-packages (from pytest->-r ../requirements.txt (line 1)) (2.0.0)\n",
      "Requirement already satisfied: packaging in /usr/local/lib/python3.11/site-packages (from pytest->-r ../requirements.txt (line 1)) (23.2)\n",
      "Requirement already satisfied: pluggy<2.0,>=1.3.0 in /home/vscode/.local/lib/python3.11/site-packages (from pytest->-r ../requirements.txt (line 1)) (1.4.0)\n",
      "Requirement already satisfied: Werkzeug>=3.0.0 in /home/vscode/.local/lib/python3.11/site-packages (from Flask->-r ../requirements.txt (line 2)) (3.0.1)\n",
      "Requirement already satisfied: Jinja2>=3.1.2 in /usr/local/lib/python3.11/site-packages (from Flask->-r ../requirements.txt (line 2)) (3.1.2)\n",
      "Requirement already satisfied: itsdangerous>=2.1.2 in /home/vscode/.local/lib/python3.11/site-packages (from Flask->-r ../requirements.txt (line 2)) (2.1.2)\n",
      "Requirement already satisfied: click>=8.1.3 in /home/vscode/.local/lib/python3.11/site-packages (from Flask->-r ../requirements.txt (line 2)) (8.1.7)\n",
      "Requirement already satisfied: blinker>=1.6.2 in /home/vscode/.local/lib/python3.11/site-packages (from Flask->-r ../requirements.txt (line 2)) (1.7.0)\n",
      "Requirement already satisfied: MarkupSafe>=2.0 in /usr/local/lib/python3.11/site-packages (from Jinja2>=3.1.2->Flask->-r ../requirements.txt (line 2)) (2.1.3)\n",
      "\n",
      "\u001b[1m[\u001b[0m\u001b[34;49mnotice\u001b[0m\u001b[1;39;49m]\u001b[0m\u001b[39;49m A new release of pip is available: \u001b[0m\u001b[31;49m23.1.2\u001b[0m\u001b[39;49m -> \u001b[0m\u001b[32;49m24.0\u001b[0m\n",
      "\u001b[1m[\u001b[0m\u001b[34;49mnotice\u001b[0m\u001b[1;39;49m]\u001b[0m\u001b[39;49m To update, run: \u001b[0m\u001b[32;49mpip install --upgrade pip\u001b[0m\n",
      "Note: you may need to restart the kernel to use updated packages.\n"
     ]
    }
   ],
   "source": [
    "pip install -r ../requirements.txt"
   ]
  },
  {
   "cell_type": "code",
   "execution_count": 1,
   "metadata": {},
   "outputs": [],
   "source": [
    "import psycopg2"
   ]
  },
  {
   "cell_type": "code",
   "execution_count": 2,
   "metadata": {},
   "outputs": [],
   "source": [
    "config = {\n",
    "    \"user\": \"root\",\n",
    "    \"password\": \"rootpwd\",\n",
    "    \"host\": \"localhost\",\n",
    "    \"port\": \"32000\",\n",
    "    \"database\": \"knights\",\n",
    "}\n",
    "connection = psycopg2.connect(**config)"
   ]
  },
  {
   "cell_type": "code",
   "execution_count": 4,
   "metadata": {},
   "outputs": [
    {
     "name": "stdout",
     "output_type": "stream",
     "text": [
      "[{'Lancelot': 'blue'}, {'Galahad': 'yellow'}]\n"
     ]
    }
   ],
   "source": [
    "cursor = connection.cursor()\n",
    "\n",
    "cursor.execute(\"SELECT * FROM favorite_colors\")\n",
    "results = [{name: color} for (name, color) in cursor]\n",
    "print(results)"
   ]
  },
  {
   "cell_type": "code",
   "execution_count": null,
   "metadata": {},
   "outputs": [],
   "source": []
  }
 ],
 "metadata": {
  "kernelspec": {
   "display_name": "Python 3",
   "language": "python",
   "name": "python3"
  },
  "language_info": {
   "codemirror_mode": {
    "name": "ipython",
    "version": 3
   },
   "file_extension": ".py",
   "mimetype": "text/x-python",
   "name": "python",
   "nbconvert_exporter": "python",
   "pygments_lexer": "ipython3",
   "version": "3.11.4"
  }
 },
 "nbformat": 4,
 "nbformat_minor": 2
}
